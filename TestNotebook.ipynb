{
    "cells": [
        {
            "cell_type": "markdown",
            "metadata": {},
            "source": "## Test Notebook"
        },
        {
            "cell_type": "code",
            "execution_count": 1,
            "metadata": {},
            "outputs": [
                {
                    "data": {
                        "text/html": "<div>\n<style scoped>\n    .dataframe tbody tr th:only-of-type {\n        vertical-align: middle;\n    }\n\n    .dataframe tbody tr th {\n        vertical-align: top;\n    }\n\n    .dataframe thead th {\n        text-align: right;\n    }\n</style>\n<table border=\"1\" class=\"dataframe\">\n  <thead>\n    <tr style=\"text-align: right;\">\n      <th></th>\n      <th>2021-02-09 00:00:00</th>\n      <th>Unnamed: 1</th>\n      <th>Daily Start: 730.15</th>\n      <th>Unnamed: 3</th>\n      <th>at Market Close: 753.00</th>\n      <th>Unnamed: 5</th>\n      <th>Unnamed: 6</th>\n      <th>Daily End:</th>\n    </tr>\n  </thead>\n  <tbody>\n    <tr>\n      <th>0</th>\n      <td>NaN</td>\n      <td>NaN</td>\n      <td>NaN</td>\n      <td>NaN</td>\n      <td>NaN</td>\n      <td>NaN</td>\n      <td>NaN</td>\n      <td>NaN</td>\n    </tr>\n    <tr>\n      <th>1</th>\n      <td>Sold 5 BAC @ 32.775</td>\n      <td>NaN</td>\n      <td>NaN</td>\n      <td>$1.58 Loss</td>\n      <td>NaN</td>\n      <td>Reason: Downwards daily trend &amp; talks of stimu...</td>\n      <td>NaN</td>\n      <td>NaN</td>\n    </tr>\n    <tr>\n      <th>2</th>\n      <td>Bought 11 ACB @ 15.71</td>\n      <td>NaN</td>\n      <td>NaN</td>\n      <td>NaN</td>\n      <td>NaN</td>\n      <td>Reason: TSG gave news about Cannabis stocks.</td>\n      <td>NaN</td>\n      <td>NaN</td>\n    </tr>\n    <tr>\n      <th>3</th>\n      <td>Sold 11 ACB @ 15.80</td>\n      <td>NaN</td>\n      <td>NaN</td>\n      <td>$0.89 Profit</td>\n      <td>NaN</td>\n      <td>Reason: Reached Stop Order Condition.</td>\n      <td>NaN</td>\n      <td>NaN</td>\n    </tr>\n    <tr>\n      <th>4</th>\n      <td>Kept 7 NIO @ 62.84</td>\n      <td>NaN</td>\n      <td>NaN</td>\n      <td>$24.64 Profit</td>\n      <td>NaN</td>\n      <td>Reason: NIO constantly upward trend and news t...</td>\n      <td>NaN</td>\n      <td>NaN</td>\n    </tr>\n  </tbody>\n</table>\n</div>",
                        "text/plain": "     2021-02-09 00:00:00  Unnamed: 1  Daily Start: 730.15     Unnamed: 3  \\\n0                    NaN         NaN                  NaN            NaN   \n1    Sold 5 BAC @ 32.775         NaN                  NaN     $1.58 Loss   \n2  Bought 11 ACB @ 15.71         NaN                  NaN            NaN   \n3    Sold 11 ACB @ 15.80         NaN                  NaN   $0.89 Profit   \n4     Kept 7 NIO @ 62.84         NaN                  NaN  $24.64 Profit   \n\n   at Market Close: 753.00                                         Unnamed: 5  \\\n0                      NaN                                                NaN   \n1                      NaN  Reason: Downwards daily trend & talks of stimu...   \n2                      NaN       Reason: TSG gave news about Cannabis stocks.   \n3                      NaN              Reason: Reached Stop Order Condition.   \n4                      NaN  Reason: NIO constantly upward trend and news t...   \n\n   Unnamed: 6  Daily End:   \n0         NaN          NaN  \n1         NaN          NaN  \n2         NaN          NaN  \n3         NaN          NaN  \n4         NaN          NaN  "
                    },
                    "execution_count": 1,
                    "metadata": {},
                    "output_type": "execute_result"
                }
            ],
            "source": "# The code was removed by Watson Studio for sharing."
        },
        {
            "cell_type": "code",
            "execution_count": null,
            "metadata": {},
            "outputs": [],
            "source": ""
        }
    ],
    "metadata": {
        "kernelspec": {
            "display_name": "Python 3.9",
            "language": "python",
            "name": "python3"
        },
        "language_info": {
            "codemirror_mode": {
                "name": "ipython",
                "version": 3
            },
            "file_extension": ".py",
            "mimetype": "text/x-python",
            "name": "python",
            "nbconvert_exporter": "python",
            "pygments_lexer": "ipython3",
            "version": "3.9.7"
        }
    },
    "nbformat": 4,
    "nbformat_minor": 1
}